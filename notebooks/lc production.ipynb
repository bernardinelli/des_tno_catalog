{
 "cells": [
  {
   "cell_type": "code",
   "execution_count": 1,
   "id": "20e8700d",
   "metadata": {},
   "outputs": [],
   "source": [
    "#!/usr/bin/env python  \n",
    "\n",
    "import scipy\n",
    "import scipy.stats as stat\n",
    "import math\n",
    "import numpy as np\n",
    "import matplotlib.pyplot as pl\n",
    "import matplotlib.axes\n",
    "from scipy.optimize import curve_fit\n",
    "import itertools\n",
    "from astropy.table import Table\n",
    "import sys"
   ]
  },
  {
   "cell_type": "code",
   "execution_count": 2,
   "id": "93a058dd",
   "metadata": {},
   "outputs": [],
   "source": [
    "# # Probability Model\n",
    "# \n",
    "\n",
    "\n",
    "# The value of a is the semi-amplitude of fractional variation,\n",
    "# i.e. relative to mean flux.  So it should be <1 to have no\n",
    "# negative-flux models.\n",
    "        \n",
    "def yModel(phi, f0, a):\n",
    "    '''Return noiseless data given light-curve phase, mean flux, and amplitude'''\n",
    "    return f0*(1+ a*np.cos(phi))\n",
    "\n",
    "def ySimulate(phi, f0, a, sigmaNoise):\n",
    "    '''Return a noisy set of observations'''\n",
    "    out = yModel(phi, f0, a)\n",
    "    if type(out)!=np.array:\n",
    "        out += np.random.normal(loc=0.0,scale = sigmaNoise)\n",
    "    else:\n",
    "        out += np.random.normal(size=len(out),loc=0.0,scale = sigmaNoise)\n",
    "\n",
    "    return out\n",
    "\n",
    "def logProbY(phi, y, f0, a, sigmaNoise):\n",
    "    '''Return log(probability) at a single phase for a measured flux y with \n",
    "    uncertainty sigmaNoise.'''\n",
    "    p = -0.5*((y - yModel(phi,f0,a))/sigmaNoise)**2\n",
    "    p -= 0.5*np.log((2*math.pi*sigmaNoise**2))\n",
    "    return p\n",
    "\n",
    "def marginalize(logProbY, observationList, fluxesTrue, a):\n",
    "    '''Return probability of a list of observations that all have the same\n",
    "    light-curve phase after marginalization over that phase.\n",
    "    `logProbY` is a function evaluating a single observation/phi combo\n",
    "    `observationList` is a list of observations, with each observation being\n",
    "         a list or tuple of (band, flux, sigma) for each measurement.\n",
    "    `fluxesTrue` is a vector of mean fluxes indexed by the band numbers\n",
    "    `a` is the light curve fractional semi-amplitude.'''\n",
    " \n",
    "    # Choose numbr of phi's across the range 0-2pi\n",
    "    # Based on (amplitude of variation) / (noise level)\n",
    "    # Pull out observed and true flux for each observation, plus\n",
    "    # observational error\n",
    "    band, obsFlux, sigmaNoise = (np.array(i) for i in zip(*observationList))\n",
    "    trueFlux = fluxesTrue[band]\n",
    "    # Make put at least 4x as many phase steps as the S/N of variation\n",
    "    maxSignalToNoise = np.max(trueFlux / sigmaNoise)  ### add\n",
    "    ### maxSignalToNoise = np.max(fluxesTrue / sigmaNoise)\n",
    "    npts = np.ceil(maxSignalToNoise * np.abs(a)) * 4   #### no exp anymore\n",
    "    npts = min(128,int(npts))\n",
    "    npts = max(8,npts)\n",
    "    phi = np.arange(npts) * np.pi/npts ### Only go 0-pi, not 2pi\n",
    "    lp = 0\n",
    "    for i in range(len(obsFlux)):  ## Change loop to be over an index\n",
    "        lp += logProbY(phi, obsFlux[i], trueFlux[i], a, sigmaNoise[i] )\n",
    "    lp0 = np.max(lp)\n",
    "    integral = np.mean(np.exp(lp-lp0))\n",
    "    return lp0 + np.log(integral)\n",
    "\n",
    "def negLogTotalP(yData, p):\n",
    "    '''Returns -log prob(data | parameters) where\n",
    "    `yData` is a list of lists of observations.  Each inner list\n",
    "       contains the set of observations that have a common light-curve\n",
    "       phase.\n",
    "    `p` is the parameter vector, which is the vector of mean fluxes\n",
    "       per band with the last element being semi-amplitude `a` that\n",
    "       is common to all bands.\n",
    "    If `a<0`, the probability is heavily penalized so the sample will\n",
    "    be rejected.'''\n",
    "    # Split up the parameters into fluxes and amplitude\n",
    "    fTrue = p[:-1]\n",
    "    a = p[-1]\n",
    "    # Return -log(P) for all points in yData vector\n",
    "    logSum = 0\n",
    "    for y in yData:\n",
    "        logSum -= marginalize(logProbY,y,fTrue,a)\n",
    "    # Heavily penalize logSum for a negative amplitude\n",
    "    if p[-1] < 0:\n",
    "        logSum += 100.\n",
    "    return logSum\n",
    "    \n",
    "\n",
    "\n",
    "# # MHMC Code\n",
    "\n",
    "class GaussianProposal:\n",
    "    def __init__(self, sigma):\n",
    "        '''Create a proposal distribution that is Gaussian in each parameter\n",
    "        with individually specified `sigma` values in a vector.'''\n",
    "        self.sigma = sigma\n",
    "    def __call__(self, oldParameters):\n",
    "        '''Return proposed new params given an old vector of them'''\n",
    "        return np.random.normal(loc=oldParameters, scale=self.sigma)\n",
    "    \n",
    "def MCMC(ydata, proposal, startingParameters, iterations,\n",
    "        debug = False):\n",
    "    '''Run a Metropolis-Hastings chain \n",
    "    `yData` is a structure holding all data, i.e. our list of observationLists\n",
    "    `proposal` is an instance of a proposal distribution class\n",
    "    `startingParameters` is where the chain will begin (vector)\n",
    "    `iterations` is number of desired samples.\n",
    "    Returns a 2d array giving parameters of all samples of chain.\n",
    "    '''\n",
    "    p = np.array(startingParameters)\n",
    "                    \n",
    "    # keep is the chain output\n",
    "    keep = np.zeros( (iterations, len(startingParameters)), dtype=float)\n",
    "\n",
    "    #prob with starting vals\n",
    "    prob = negLogTotalP(ydata,p)\n",
    "    for i in range(iterations):\n",
    "        # Evaluate a proposal\n",
    "        pNew = proposal(p)\n",
    "        probNew = negLogTotalP(ydata,pNew)  \n",
    "        u = np.random.uniform()\n",
    "        # Make the MH decision\n",
    "        if np.log(u) < (prob-probNew):\n",
    "            if debug:\n",
    "                print('Accept at ',prob,probNew,u,p)\n",
    "            keep[i] = pNew\n",
    "            p = pNew\n",
    "            prob = probNew \n",
    "        else:\n",
    "            if debug:\n",
    "                print('Reject at ',prob,probNew,u,pNew)\n",
    "            keep[i] = p\n",
    "    return keep   \n",
    "\n",
    "def getcLen(fkeep,kmax=100):\n",
    "    '''get correlation length for any 1d set of samples `fkeep`'''\n",
    "    tmp = fkeep - np.mean(fkeep)\n",
    "    c0 = np.mean(tmp*tmp)\n",
    "    cprev = 1.\n",
    "    target = np.exp(-1.)   # Look for where it drops below 1/e\n",
    "    for k in range(1,kmax+1):\n",
    "        c = np.mean(tmp[:-k]*tmp[k:])/ c0\n",
    "        if c<=target:\n",
    "            # Interpolate correlation linearly to the target point\n",
    "            frac = (cprev-target) / (cprev-c)\n",
    "            return k-1. + frac\n",
    "        else:\n",
    "            cprev = c\n",
    "    # Get here if we did not reach 1/e\n",
    "    return float(kmax)\n",
    "\n",
    "\n",
    "# ## Function to give starting points and proposal sigmas\n",
    "\n",
    "def mcmcHints(yData):\n",
    "    '''Estimate the mean fluxes per band, uncertainty on them, \n",
    "    and the minimum detectable fractional amplitude of variation'''\n",
    "    # Ignoring same-night stuff so just concatenate all observations\n",
    "    allObs = list(itertools.chain(*yData))\n",
    "    bb = np.array([obs[0] for obs in allObs])\n",
    "    flux = np.array([obs[1] for obs in allObs])\n",
    "    sig  = np.array([obs[2] for obs in allObs])\n",
    "    \n",
    "    bands = np.unique(bb)\n",
    "    fluxEst = np.zeros(len(bands),dtype=float)\n",
    "    fluxSigma = fluxEst.copy()\n",
    "    fisherAA = 0.  # Accumulate Fisher information on fractional variance\n",
    "    \n",
    "    for i,b in enumerate(bands):\n",
    "        use = bb==b\n",
    "        wt = sig[use]**-2\n",
    "        fMean = np.sum(flux[use]*wt) / np.sum(wt)\n",
    "        # Iterate once more putting a nominal light curve variance\n",
    "        # of a few percent, to avoid overweighting\n",
    "        wt = 1/(sig[use]**2 + (0.02*fMean)**2)\n",
    "        fMean = np.sum(flux[use]*wt) / np.sum(wt)\n",
    "        fluxEst[i] = fMean\n",
    "        fluxSigma[i] = np.sum(wt)**-0.5\n",
    "        \n",
    "        # Get contribution to variation information\n",
    "        fisherAA += 2.*np.sum((fMean*fMean*wt)**2)\n",
    "    \n",
    "    # Now convert the Fisher information on variance into\n",
    "    # a sigma for amplitude\n",
    "    aSigma = fisherAA**(-0.25)\n",
    "    return fluxEst, fluxSigma, aSigma\n",
    "\n",
    "class LightCurveTable:\n",
    "    def __init__(self, tab):\n",
    "        '''A class that will build an observation list from tabular data.'''\n",
    "        nominalRange = 30.  # All distances transformed to this value\n",
    "        self.tab = tab\n",
    "        # Keep track of which entries are valid\n",
    "        self.use = np.ones(len(tab), dtype=bool)\n",
    "        # Don't use any with exactly zero flux\n",
    "        self.use = np.logical_and(self.use, tab['FLUX']!=0.)\n",
    "        self.changed = True  # status flag whenever data change\n",
    "        \n",
    "    def getRows(self):\n",
    "        # Return time-ordered list of rows of table in use for fits\n",
    "        rows = np.where(self.use)[0]\n",
    "        tdb = self.tab['TDB'][rows]\n",
    "        order = np.argsort(tdb)\n",
    "        return rows[order]\n",
    "    \n",
    "    def clip(self,row):\n",
    "        '''Mark a row as unusable'''\n",
    "        self.use[row] = False\n",
    "        self.changed = True\n",
    "        return\n",
    "    \n",
    "    def unclip(self,row):\n",
    "        '''Mark a row as usable'''\n",
    "        self.use[row] = True\n",
    "        self.changed = True\n",
    "        return\n",
    "    \n",
    "    def setObsList(self):\n",
    "        ''' Set up observation list, band dictionary, and DOF'''\n",
    "        if not self.changed:\n",
    "            # Already current\n",
    "            return\n",
    "        rows = self.getRows()\n",
    "\n",
    "        # Begin loop exercised while clipping\n",
    "        # Read the stuff we need\n",
    "        nObs = len(rows)\n",
    "        expnum = self.tab['EXPNUM'][rows]\n",
    "        flux = self.tab['FLUX'][rows]\n",
    "        sigma = self.tab['FLUX_ERR'][rows]\n",
    "        band = self.tab['BAND'][rows]\n",
    "        tdb = self.tab['TDB'][rows]\n",
    "\n",
    "        # Rescale flux and sigma to nominal range\n",
    "        rangeFactor = (self.tab['RANGE'][rows]*self.tab['SOLARD'][rows]/nominalRange**2)**2\n",
    "        flux *= rangeFactor\n",
    "        sigma *= rangeFactor\n",
    "\n",
    "        # Make an array marking end of each burst of exposures\n",
    "        maxDiffTDB = 1./(24*365.)  # skip in time that triggers new burst: 1 hr\n",
    "        endOfBurst = np.ones(nObs, dtype=bool)\n",
    "        endOfBurst[:-1] = tdb[1:]-tdb[:-1] > maxDiffTDB\n",
    "\n",
    "        # Assign a number to each band\n",
    "        bb = np.unique(band)\n",
    "        self.b2n = {b:i for i,b in enumerate(bb)}\n",
    "\n",
    "        # Build structure holding photometry\n",
    "        self.yData = []\n",
    "        burst = []\n",
    "        self.dof = nObs - len(bb)\n",
    "        for i in range(nObs):\n",
    "            obs = (self.b2n[band[i]], flux[i], sigma[i])\n",
    "            burst.append(obs)\n",
    "            if endOfBurst[i]:\n",
    "                self.yData.append(burst)\n",
    "                self.dof -= 1\n",
    "                burst = []\n",
    "        \n",
    "        self.changed = False\n",
    "        return \n",
    "    \n",
    "    def __call__(self, params):\n",
    "        ''' Return -log(P(data | params)), where params are band fluxes and LC semi-amplitude'''\n",
    "        self.setObsList()\n",
    "        return negLogTotalP(self.yData, params)\n",
    "    \n",
    "    def optimize(self, pStart):\n",
    "        ''' Return -log P(pOpt), pOpt, DOF for pOpt that minimizes former, using pStart'''\n",
    "        out = minimize(self, pStart)\n",
    "        return out['fun'],out['x'], self.dof\n",
    "\n",
    "    def optimize2(self, a, flux):\n",
    "        out = minimize(self,np.append(flux,a))\n",
    "        return out['fun']"
   ]
  },
  {
   "cell_type": "code",
   "execution_count": 3,
   "id": "add55b96",
   "metadata": {},
   "outputs": [],
   "source": [
    "def processLC(tab, name, nIter=50000, clipThreshold=3.):\n",
    "    '''Run MCMC on photometry in the table.  A FITS table with\n",
    "    thinned samples will be written to a file, and diagnostic plots\n",
    "    to another file, both keyed by `name`.  Diagnostic \n",
    "    summaries printed to stdout.\n",
    "    \n",
    "    `clipThreshold` specifies number of sigma beyond light-curve\n",
    "    extremes where data points will be clipped.\n",
    "    \n",
    "    `nIter` is number of MCMC iterations to draw.  1/4 will be\n",
    "    discarded as burn-in.\n",
    "    '''\n",
    "    nominalRange = 30.\n",
    "    magZero = 30.\n",
    "    \n",
    "    # Put rows into time order, skipping zero-flux entries\n",
    "    rows = np.where(tab['FLUX']!=0.)[0]\n",
    "    tdb = tab['TDB'][rows]\n",
    "    order = np.argsort(tdb)\n",
    "    rows = rows[order]\n",
    "\n",
    "    print('#------ Object',name)\n",
    "    while (len(rows)>6):\n",
    "        # Begin loop exercised while clipping\n",
    "        # Read the stuff we need\n",
    "        nObs = len(rows)\n",
    "        expnum = tab['EXPNUM'][rows]\n",
    "        flux = tab['FLUX_SN'][rows]\n",
    "        sigma = tab['FLUX_ERR_SN'][rows]\n",
    "        band = tab['BAND'][rows]\n",
    "        tdb = tab['TDB'][rows]\n",
    "\n",
    "        # Rescale flux and sigma to nominal range\n",
    "        rangeFactor = (tab['RANGE'][rows]*tab['SOLARD'][rows]/nominalRange**2)**2\n",
    "        flux *= rangeFactor\n",
    "        sigma *= rangeFactor\n",
    "\n",
    "        # Make an array marking end of each burst of exposures\n",
    "        maxDiffTDB = 1./(24*365.)  # skip in time that triggers new burst: 1 hr\n",
    "        endOfBurst = np.ones(nObs, dtype=bool)\n",
    "        endOfBurst[:-1] = tdb[1:]-tdb[:-1] > maxDiffTDB\n",
    "\n",
    "        # Assign a number to each band\n",
    "        bb = np.unique(band)\n",
    "        b2n = {b:i for i,b in enumerate(bb)}\n",
    "\n",
    "        # Build structure holding photometry\n",
    "        yData = []\n",
    "        burst = []\n",
    "        for i in range(nObs):\n",
    "            obs = (b2n[band[i]], flux[i], sigma[i])\n",
    "            burst.append(obs)\n",
    "            if endOfBurst[i]:\n",
    "                yData.append(burst)\n",
    "                burst = []\n",
    "\n",
    "         # Now create the proposal distribution.  \n",
    "        # Use the helper function above\n",
    "        startF, sigmaF, sigmaA = mcmcHints(yData)\n",
    "        # set proposal sigmas to ~1/4 of estimated uncertainties\n",
    "        sigmaParameters = np.append(sigmaF, sigmaA)*0.25\n",
    "        proposal = GaussianProposal(sigmaParameters)\n",
    "\n",
    "        # Make a guess to start the chain, with `a` at its\n",
    "        # minimal detectable value.\n",
    "        startParameters = np.append(startF, sigmaA)\n",
    "        \n",
    "        # Run the MCMC, discard burn-in, thin chain\n",
    "        burn = 4\n",
    "        keep = MCMC(yData,proposal,startParameters,nIter) \n",
    "        keep = keep[nIter//burn:,:]\n",
    "        \n",
    "        acceptance = np.mean(keep[:-1,-1]!=keep[1:,-1])\n",
    "        thin = getcLen(keep, kmax=100)\n",
    "        keep = keep[::int(np.ceil(thin)),:]\n",
    "        \n",
    "        print('# nObs {:3d} acceptance {:.3f} correlation {:.1f}'.format(nObs,\n",
    "                                                                        acceptance,\n",
    "                                                                        thin))\n",
    "        # Now check for outlier data\n",
    "        pmean = np.mean(keep, axis=0)\n",
    "        f0 = np.array([pmean[b2n[b]] for b in band])\n",
    "        df = np.abs(flux/f0 - 1.)\n",
    "        nsig = np.maximum(0., (df-pmean[-1])/(sigma/f0))\n",
    "        worst = np.argmax(nsig)\n",
    "    \n",
    "        if nsig[worst] > clipThreshold:\n",
    "            # Clip the bad point from data and try again\n",
    "            print(\"# Clip {:s} {:06d} f/f0= {:.3f} +- {:.3f} LCA {:.3f} nSigma {:.2f}\".format(                      name, expnum[worst], flux[worst]/f0[worst], sigma[worst]/f0[worst], \n",
    "                     pmean[-1],nsig[worst])  )\n",
    "            # Remove from table:\n",
    "            good = np.ones(nObs, dtype=bool)\n",
    "            good[worst] = False\n",
    "            rows = rows[good]\n",
    "        else:\n",
    "            # Log result\n",
    "            print(\"# Worst {:s} {:06d} {:s} f/f0= {:.3f} +- {:.3f} LCA {:.3f} nSigma {:.2f}\".format(                  name, expnum[worst], band[worst], flux[worst]/f0[worst], sigma[worst]/f0[worst], \n",
    "                 pmean[-1],nsig[worst]) )\n",
    "            break\n",
    "        \n",
    "    # Quit if no useful fit at end\n",
    "    if (len(rows)<=6):\n",
    "        print(\"### Insufficient data\")\n",
    "        return\n",
    "    \n",
    "    # Make a plot\n",
    "    pl.figure(figsize=(8,10))\n",
    "    if 'g' in b2n and 'r' in b2n:\n",
    "        gr = -2.5*np.log10(keep[:,b2n['g']]/keep[:,b2n['r']])\n",
    "    else:\n",
    "        gr = None\n",
    "    if 'r' in b2n and 'i' in b2n:\n",
    "        ri = -2.5*np.log10(keep[:,b2n['r']]/keep[:,b2n['i']])\n",
    "    else:\n",
    "        ri = None\n",
    "    if 'r' in b2n and 'z' in b2n:\n",
    "        rz = -2.5*np.log10(keep[:,b2n['r']]/keep[:,b2n['z']])\n",
    "    else:\n",
    "        rz = None\n",
    "    if 'r' in b2n:\n",
    "        Hr = magZero - 2.5*np.log10(keep[:,b2n['r']]) - 10*np.log10(nominalRange)\n",
    "    else:\n",
    "        Hr = None\n",
    "\n",
    "    pl.subplot(321)\n",
    "    pl.plot(keep[:,-1],'ro')\n",
    "    pl.grid()\n",
    "    pl.xlabel('Sample')\n",
    "    pl.ylabel('LC amplitude')\n",
    "    pl.ylim(-0.1,0.7)\n",
    "\n",
    "    pl.subplot(322)\n",
    "    h = pl.hist(keep[:,-1],range=(0,1.),bins=100)\n",
    "    pl.grid()\n",
    "    pl.xlabel('LC amplitude')\n",
    "\n",
    "    pl.subplot(323)\n",
    "    if Hr is not None:\n",
    "        pl.plot(Hr,'ro')\n",
    "    pl.ylabel('H_r')\n",
    "    pl.xlabel('Sample')\n",
    "    pl.grid()\n",
    "\n",
    "    pl.subplot(324)\n",
    "    if gr is not None:\n",
    "        h = pl.hist(gr,bins=45,range=(-0.2,1.3),histtype='step',color='b',                 label='g-r {:.2f}'.format(np.std(gr)))\n",
    "    if ri is not None:\n",
    "        h = pl.hist(ri,bins=45,range=(-0.2,1.3),histtype='step',color='g',                 label='r-i {:.2f}'.format(np.std(ri)))\n",
    "    if rz is not None:\n",
    "        h = pl.hist(rz,bins=45,range=(-0.2,1.3),histtype='step',color='r',                 label='r-z {:.2f}'.format(np.std(rz)))\n",
    "    pl.grid()\n",
    "    pl.legend()\n",
    "    pl.xlabel('Mag')\n",
    "\n",
    "    pl.subplot(313)\n",
    "    # Plot the fluxes vs time.  Go back and plot the full table, and draw circles\n",
    "    # around the ones that have been dropped.\n",
    "    # Also clip to a display range\n",
    "    ylims = (-0.1, 1.8)\n",
    "    rangeFactor = (tab['RANGE']*tab['SOLARD']/nominalRange**2)**2\n",
    "    ff = tab['FLUX']*rangeFactor\n",
    "    df = tab['FLUX_ERR']*rangeFactor\n",
    "        \n",
    "    clipped = np.ones(len(tab), dtype=bool)\n",
    "    clipped[rows] = False\n",
    "    for b,c in zip('griz','mgrk'):\n",
    "        if b not in b2n:\n",
    "            continue\n",
    "        use = tab['BAND']==b\n",
    "        f0 = np.mean(keep[:,b2n[b]])\n",
    "        pl.errorbar(tab['TDB'][use],\n",
    "                    ff[use]/f0,\n",
    "                    yerr=df[use]/f0,\n",
    "                    color=c,marker='^',ls='none',label=b)\n",
    "        pl.plot(tab['TDB'][use],np.clip(ff[use]/f0, *ylims),\n",
    "                    color=c,marker='^',ls='none',label=None)\n",
    "        # Plot red X over clipped points\n",
    "        mark = np.logical_and(use, clipped)\n",
    "        pl.plot(tab['TDB'][mark],np.clip(ff[mark]/f0, *ylims),\n",
    "                    color='r',marker='x',ms=12,ls='none',label=None)\n",
    "    pl.ylim(*ylims)\n",
    "    pl.grid()\n",
    "    pl.legend()\n",
    "    pl.xlabel('TDB')\n",
    "    pl.ylabel('Relative flux')\n",
    "\n",
    "    pl.suptitle('Object {:s}'.format(name))\n",
    "    pl.savefig('results_{:s}.pdf'.format(name))\n",
    "\n",
    "    # Save samples\n",
    "    data  = []\n",
    "    names = ['g','r','i','z','Y']\n",
    "    for b in names:\n",
    "        if b in b2n:\n",
    "            data.append(keep[:,b2n[b]])\n",
    "        else:\n",
    "            data.append(np.zeros_like(keep[:,0]))\n",
    "    # Add a column with the object id\n",
    "    data.append( np.array([name]*keep.shape[0]) )\n",
    "    names.append('id')\n",
    "    out = Table(data=data, names=names)\n",
    "    out.write('results_{:s}.fits'.format(name), overwrite=True)\n",
    "    \n",
    "    # Output results - H, colors, ampl\n",
    "    vals = [name]\n",
    "    for v in Hr, gr, ri, rz, keep[:,-1]:\n",
    "        if v is None:\n",
    "            vals.append(0.)\n",
    "            vals.append(0.)\n",
    "        else:\n",
    "            vals.append(np.mean(v))\n",
    "            vals.append(np.std(v))\n",
    "            \n",
    "    print(\"{:s} {:.2f} +- {:.2f} {:.2f} +- {:.2f} {:.2f} +- {:.2f} {:.2f} +- {:.2f} {:.2f} +- {:.2f}\".format(                                                                                            *vals))\n",
    "\n",
    "    return yData, keep, b2n, rows"
   ]
  },
  {
   "cell_type": "code",
   "execution_count": 38,
   "id": "1539aa00",
   "metadata": {},
   "outputs": [
    {
     "data": {
      "text/plain": [
       "<TableColumns names=('EXPNUM','FLUX','FLUX_ERR','MAG','MAG_ERR','BAND','FLUX_SN','FLUX_ERR_SN','MAG_SN','MAG_ERR_SN','ORBITID','CCDNUM','CHISQ','MAG_CATALOG','OBJECTID','PHASE','PHASEPA','RANGE','RESIDUAL','SN','SOLARD','TDB','RA','DEC','MPC')>"
      ]
     },
     "execution_count": 38,
     "metadata": {},
     "output_type": "execute_result"
    }
   ],
   "source": [
    "tab  = Table.read('y6_tno_photometry.fits')\n",
    "tab.columns"
   ]
  },
  {
   "cell_type": "code",
   "execution_count": 39,
   "id": "ab07e732",
   "metadata": {},
   "outputs": [
    {
     "name": "stdout",
     "output_type": "stream",
     "text": [
      "EXPNUM      FLUX_SN       BAND        TDB        \n",
      "------ ------------------ ---- ------------------\n",
      "238105 1749.1998928825003    Y 13.729827358178863\n",
      "231956  449.9688391887441    g 13.688549758831028\n",
      "677356  1208.260340813081    z  17.70245508583306\n",
      "593826  694.4665796021372    Y  16.88068378609328\n",
      "229734  379.1601049503909    g 13.669717915493305\n",
      "590633 1546.2652784869592    Y   16.8506301965813\n",
      "240701  553.6316545753242    g 13.753879489940934\n",
      "243558 1078.5842092902017    i 13.781468938511596\n",
      "247909  561.9793825687802    g  13.82491791666697\n",
      "257490 434.19255888258135    g  13.89356325182008\n",
      "   ...                ...  ...                ...\n",
      "590632 1243.9968244081153    z 16.850627128947526\n",
      "589783 444.97833188089874    g  16.84507939462744\n",
      "589782 1181.8443257700962    i 16.845075614695723\n",
      "378515  872.8320647043286    z 14.876293520235764\n",
      "573467 403.42508557917245    Y  16.69458219441465\n",
      "589781   845.970088863998    r 16.845071865948338\n",
      "569945  431.9739409411815    g  16.66767473592921\n",
      "569944  871.8704958980101    r 16.667670988468206\n",
      "569943  1055.981132628723    i  16.66766723980369\n",
      "490649  479.5274082384034    g 15.848338472246478\n",
      "490648 1032.5175886413465    i 15.848334708441115\n",
      "Length = 31 rows\n"
     ]
    }
   ],
   "source": [
    "tab = tab[tab['ORBITID']==28]\n",
    "bad = np.isin(tab['EXPNUM'],[242773,243580,257492,572271])\n",
    "tab = tab[np.logical_not(bad)]\n",
    "print(tab['EXPNUM','FLUX_SN','BAND','TDB'])"
   ]
  },
  {
   "cell_type": "code",
   "execution_count": 40,
   "id": "a47e6e00",
   "metadata": {},
   "outputs": [
    {
     "name": "stdout",
     "output_type": "stream",
     "text": [
      "229734 g 13.6697  825.4 +- 125.4 \n",
      "231956 g 13.6885  976.3 +- 164.1 \n",
      "238105 Y 13.7298 3777.4 +- 1095.0 \n",
      "240701 g 13.7539 1194.3 +- 146.3 \n",
      "243558 i 13.7815 2327.6 +- 200.5 \n",
      "247909 g 13.8249 1217.6 +- 157.4 \n",
      "257490 g 13.8936  953.9 +- 95.2 \n",
      "257493 i 13.8936 2143.3 +- 159.5 \n",
      "259335 g 13.9182  434.6 +- 140.0 \n",
      "349372 z 14.6279 2220.4 +- 413.3 \n",
      "371738 r 14.8192 1590.0 +- 197.5 \n",
      "372563 i 14.8247 2302.5 +- 215.6 \n",
      "377002 r 14.8655 1828.9 +- 129.2 \n",
      "377746 z 14.8708 1901.2 +- 371.7 \n",
      "377747 Y 14.8708 2610.0 +- 1329.0 \n",
      "378515 z 14.8763 1888.9 +- 360.2 \n",
      "490647 r 15.8483 1551.0 +- 129.1 \n",
      "490648 i 15.8483 2198.8 +- 197.8 \n",
      "490649 g 15.8483 1021.2 +- 106.0 \n",
      "569943 i 16.6677 2239.6 +- 208.9 \n",
      "569944 r 16.6677 1849.2 +- 128.8 \n",
      "569945 g 16.6677  916.2 +- 90.8 \n",
      "573467 Y 16.6946  851.1 +- 1172.6 \n",
      "589781 r 16.8451 1782.4 +- 111.9 \n",
      "589782 i 16.8451 2490.0 +- 185.7 \n",
      "589783 g 16.8451  937.5 +- 97.8 \n",
      "590632 z 16.8506 2623.3 +- 418.9 \n",
      "590633 Y 16.8506 3260.7 +- 1415.1 \n",
      "593775 z 16.8805 1776.1 +- 338.8 \n",
      "593826 Y 16.8807 1473.1 +- 1132.6 \n",
      "677356 z 17.7025 2524.0 +- 378.6 \n"
     ]
    }
   ],
   "source": [
    "tab.sort('EXPNUM')\n",
    "for row in tab:\n",
    "    scale = (row['SOLARD']*row['RANGE']/900)**2\n",
    "    print('{:6d} {:s} {:7.4f} {:6.1f} +- {:4.1f} '.format(\\\n",
    "    row['EXPNUM'],row['BAND'],row['TDB'],row['FLUX_SN']*scale,row['FLUX_ERR_SN']*scale))\n"
   ]
  },
  {
   "cell_type": "code",
   "execution_count": 41,
   "id": "57016fdf",
   "metadata": {},
   "outputs": [
    {
     "name": "stdout",
     "output_type": "stream",
     "text": [
      "#------ Object test28\n",
      "# nObs  31 acceptance 0.763 correlation 100.0\n",
      "# Clip test28 259335 f/f0= 0.468 +- 0.151 LCA 0.066 nSigma 3.08\n",
      "# nObs  30 acceptance 0.748 correlation 100.0\n",
      "# Worst test28 247909 g f/f0= 1.245 +- 0.161 LCA 0.045 nSigma 1.25\n",
      "test28 7.14 +- 0.04 0.61 +- 0.06 0.30 +- 0.05 0.21 +- 0.09 0.04 +- 0.03\n"
     ]
    },
    {
     "data": {
      "image/png": "[encoded data removed]",
      "text/plain": [
       "<Figure size 576x720 with 5 Axes>"
      ]
     },
     "metadata": {
      "needs_background": "light"
     },
     "output_type": "display_data"
    }
   ],
   "source": [
    "out = processLC(tab,'test28')"
   ]
  },
  {
   "cell_type": "code",
   "execution_count": 22,
   "id": "7a8c9476",
   "metadata": {},
   "outputs": [
    {
     "data": {
      "text/plain": [
       "([[(1, 1849.2253580030979, 336.6797597373767)],\n",
       "  [(1, 1064.9228587538155, 401.5575823269763)],\n",
       "  [(0, -3435.663096152552, 4081.5112227828795)],\n",
       "  [(1, 1833.8830752108427, 343.15518901032806)],\n",
       "  [(0, 4155.476148169629, 4981.295693842574)],\n",
       "  [(1, 944.5392936288752, 333.39143748400124),\n",
       "   (1, 1754.480481616999, 327.2324196508114)],\n",
       "  [(1, 1666.0782156933517, 268.0803811627349)],\n",
       "  [(1, 1932.3036632872431, 276.19671668769286)],\n",
       "  [(0, 9028.829541989762, 3750.9098332085264)],\n",
       "  [(0, 4338.385490013115, 4343.133405982744)],\n",
       "  [(2, 5437.581267485125, 557.8492046236876)],\n",
       "  [(3, 2145.9702374811636, 310.7885124755412)],\n",
       "  [(2, 4267.137584792714, 541.1269190258179)],\n",
       "  [(2, 4991.536026752277, 546.9905622706268),\n",
       "   (4, 6421.901925300878, 952.1534638189036)],\n",
       "  [(4, 5864.677338643031, 948.8911506241825)],\n",
       "  [(4, 5826.255494320089, 1281.7841413960095)],\n",
       "  [(2, 3400.128278994967, 472.72214245563754),\n",
       "   (3, 1718.138811927624, 283.5096556271922),\n",
       "   (4, 3867.5598734527425, 698.9520922370666)],\n",
       "  [(1, 1276.414094496787, 226.78100670995838)],\n",
       "  [(3, 2058.8830423030063, 274.6278034814024)],\n",
       "  [(2, 4100.508760228436, 384.55890384192503)],\n",
       "  [(4, 6930.965974284677, 789.2583811498392),\n",
       "   (0, 5377.7320500337355, 2018.1770213940854)],\n",
       "  [(3, 3372.8431044887525, 283.9876419592426),\n",
       "   (1, 1312.7765303268914, 209.62618688004363)],\n",
       "  [(3, 3622.416184222853, 298.06911170658526),\n",
       "   (2, 5138.244470540509, 419.0565586140376),\n",
       "   (1, 1703.0476093513985, 254.90892072472934)],\n",
       "  [(4, 6796.986456479243, 839.7317076885101)],\n",
       "  [(3, 2182.5516377421186, 140.00718760338876)],\n",
       "  [(4, 6560.17244553284, 751.7240649062679)]],\n",
       " array([[4.36749798e+03, 1.45954142e+03, 4.13917649e+03, 2.63729082e+03,\n",
       "         5.30577647e+03, 3.10500433e-01],\n",
       "        [3.22324746e+03, 1.31904703e+03, 4.07916381e+03, 2.64550905e+03,\n",
       "         5.37146355e+03, 2.72924963e-01],\n",
       "        [5.08241976e+03, 1.27079701e+03, 4.17765402e+03, 2.90300929e+03,\n",
       "         6.06122459e+03, 2.51962857e-01],\n",
       "        ...,\n",
       "        [5.45488875e+03, 1.27079964e+03, 4.48525322e+03, 2.66383818e+03,\n",
       "         6.39339618e+03, 2.54538248e-01],\n",
       "        [3.63402828e+03, 1.41800552e+03, 4.77966383e+03, 2.68253449e+03,\n",
       "         5.19213471e+03, 2.14480488e-01],\n",
       "        [5.21792589e+03, 1.54544541e+03, 4.06107156e+03, 2.67537143e+03,\n",
       "         6.69178603e+03, 3.04516232e-01]]),\n",
       " {'Y': 0, 'g': 1, 'i': 2, 'r': 3, 'z': 4},\n",
       " array([ 0,  1,  2,  3,  4,  5,  6,  7,  8,  9, 10, 11, 12, 13, 14, 15, 16,\n",
       "        17, 18, 19, 20, 21, 22, 23, 24, 25, 26, 27, 28, 29, 30, 31, 32, 33]))"
      ]
     },
     "execution_count": 22,
     "metadata": {},
     "output_type": "execute_result"
    }
   ],
   "source": [
    "out"
   ]
  },
  {
   "cell_type": "code",
   "execution_count": 23,
   "id": "54ee1ffd",
   "metadata": {},
   "outputs": [
    {
     "data": {
      "text/plain": [
       "array([4.33046485e+03, 1.37245927e+03, 4.33065089e+03, 2.77244453e+03,\n",
       "       5.60710238e+03, 2.72211788e-01])"
      ]
     },
     "execution_count": 23,
     "metadata": {},
     "output_type": "execute_result"
    }
   ],
   "source": [
    "np.mean(out[1],axis=0)"
   ]
  },
  {
   "cell_type": "code",
   "execution_count": 24,
   "id": "df28819b",
   "metadata": {},
   "outputs": [
    {
     "name": "stdout",
     "output_type": "stream",
     "text": [
      "[1.17571879e+03 1.83878789e+03 1.93437122e+03 2.31060175e+03\n",
      " 1.33574922e+03 2.96796353e-01]\n"
     ]
    },
    {
     "data": {
      "text/plain": [
       "array([1.17571879e+03, 1.83878789e+03, 1.93437122e+03, 2.31060175e+03,\n",
       "       1.33574922e+03, 2.96796353e-01])"
      ]
     },
     "execution_count": 24,
     "metadata": {},
     "output_type": "execute_result"
    }
   ],
   "source": [
    "nick = np.load('TNOrunTest20/Chain Output Object 19.npz')\n",
    "print(np.mean(nick['arr_0'],axis=0))\n",
    "nick['arr_1']\n"
   ]
  },
  {
   "cell_type": "code",
   "execution_count": 60,
   "id": "010edc8e",
   "metadata": {},
   "outputs": [
    {
     "name": "stdout",
     "output_type": "stream",
     "text": [
      "#------ Object 062\n",
      "# nObs  39 acceptance 0.824 correlation 100.0\n",
      "# Worst 062 572675 g f/f0= 0.206 +- 0.075 LCA 0.677 nSigma 1.56\n",
      "062 6.16 +- 0.07 1.12 +- 0.10 0.41 +- 0.05 0.65 +- 0.08 0.68 +- 0.03\n"
     ]
    },
    {
     "data": {
      "image/png": "[encoded data removed]",
      "text/plain": [
       "<Figure size 576x720 with 5 Axes>"
      ]
     },
     "metadata": {
      "needs_background": "light"
     },
     "output_type": "display_data"
    }
   ],
   "source": [
    "tab = Table.read('y6_timeseries.fits')\n",
    "id = 62\n",
    "objtab = tab[tab['ORBITID']==id]\n",
    "##objtab = objtab[objtab['EXPNUM']!=599722]\n",
    "yData, keep, b2n, rows = processLC(objtab,'{:03d}'.format(id),nIter=30000, clipThreshold=2.9)"
   ]
  },
  {
   "cell_type": "code",
   "execution_count": 19,
   "id": "c25ec978",
   "metadata": {},
   "outputs": [
    {
     "name": "stdout",
     "output_type": "stream",
     "text": [
      "231534 g 13.686 f/f0 = 0.682+-0.159 pull +0.046\n",
      "231923 g 13.688 f/f0 = 1.041+-0.238 pull -0.114\n",
      "232847 g 13.694 f/f0 = 1.500+-0.167 pull +0.157\n",
      "233093 Y 13.696 f/f0 = 1.338+-0.766 pull +0.013\n",
      "238927 g 13.740 f/f0 = 1.114+-0.231 pull -0.109\n",
      "243501 z 13.781 f/f0 = 1.419+-0.078 pull +0.181\n",
      "243513 i 13.781 f/f0 = 1.383+-0.051 pull +0.137\n",
      "251784 r 13.853 f/f0 = 1.324+-0.064 pull -0.116\n",
      "257226 g 13.891 f/f0 = 0.733+-0.148 pull -0.032\n",
      "257227 r 13.891 f/f0 = 0.906+-0.062 pull -0.159\n",
      "257228 i 13.891 f/f0 = 0.878+-0.067 pull -0.177\n",
      "257471 i 13.893 f/f0 = 0.752+-0.058 pull -0.329\n",
      "372121 i 14.822 f/f0 = 1.189+-0.221 pull -0.086\n",
      "372128 r 14.822 f/f0 = 0.887+-0.077 pull -0.177\n",
      "377004 Y 14.866 f/f0 = 1.288+-0.602 pull +0.010\n",
      "377380 z 14.868 f/f0 = 0.816+-0.121 pull -0.153\n",
      "377765 z 14.871 f/f0 = 0.918+-0.083 pull -0.161\n",
      "378491 z 14.876 f/f0 = 1.137+-0.114 pull -0.136\n",
      "572673 r 16.689 f/f0 = 0.612+-0.063 pull +0.592\n",
      "572674 i 16.689 f/f0 = 0.592+-0.067 pull +0.818\n",
      "572675 g 16.689 f/f0 = 0.383+-0.140 pull +0.820\n",
      "573076 z 16.692 f/f0 = 1.160+-0.079 pull -0.139\n",
      "573459 Y 16.695 f/f0 = 1.280+-0.484 pull +0.011\n",
      "579891 i 16.752 f/f0 = 1.351+-0.066 pull -0.027\n",
      "597906 r 16.913 f/f0 = 1.059+-0.065 pull -0.127\n",
      "597907 i 16.913 f/f0 = 0.903+-0.070 pull -0.163\n",
      "597908 g 16.913 f/f0 = 1.199+-0.155 pull -0.117\n",
      "599723 Y 16.927 f/f0 = 0.154+-0.397 pull -0.120\n",
      "682049 r 17.738 f/f0 = 0.704+-0.056 pull -0.287\n",
      "682050 i 17.738 f/f0 = 0.704+-0.054 pull -0.300\n",
      "682051 g 17.738 f/f0 = 0.729+-0.125 pull -0.032\n",
      "688953 g 17.801 f/f0 = 0.924+-0.139 pull -0.164\n",
      "691969 z 17.825 f/f0 = 1.026+-0.100 pull -0.133\n",
      "706747 Y 17.978 f/f0 = 1.549+-0.497 pull +0.119\n",
      "771116 z 18.688 f/f0 = 0.706+-0.081 pull -0.106\n",
      "782064 r 18.773 f/f0 = 1.074+-0.087 pull -0.133\n",
      "782065 i 18.773 f/f0 = 1.167+-0.057 pull -0.126\n",
      "784619 z 18.794 f/f0 = 1.200+-0.088 pull -0.149\n"
     ]
    }
   ],
   "source": [
    "## !!! Try finding outliers from least-likely burst of observations\n",
    "nominalRange = 30.\n",
    "#Split output into high/low-a halves, get mean p for each\n",
    "amed = np.median(keep[:,-1])\n",
    "top = keep[:,-1] > amed\n",
    "ptop = np.mean(keep[top,:],axis=0)\n",
    "pbot = np.mean(keep[~top,:],axis=0)\n",
    "pmean = np.mean(keep,axis=0)\n",
    "pulls = []\n",
    "for i in rows:\n",
    "    rangeFactor = (objtab['RANGE'][i]*objtab['SOLARD'][i]/nominalRange**2)**2\n",
    "    flux = objtab['FLUX'][i]*rangeFactor\n",
    "    sigma =objtab['FLUX_ERR'][i] * rangeFactor\n",
    "    b = objtab['BAND'][i]\n",
    "    f0 = pmean[b2n[b]]\n",
    "    obs = [(b2n[b], flux, sigma)]\n",
    "    pull = marginalize(logProbY, obs, ptop[:-1], ptop[-1]) - \\\n",
    "         marginalize(logProbY, obs, pbot[:-1], pbot[-1])\n",
    "    pulls.append(pull)\n",
    "    print(objtab['EXPNUM'][i], b, \"{:06.3f} f/f0 = {:.3f}+-{:.3f} pull {:+.3f}\".format(\\\n",
    "        objtab['TDB'][i],flux/f0, sigma/f0, pull))"
   ]
  },
  {
   "cell_type": "code",
   "execution_count": 21,
   "id": "d8b23dee",
   "metadata": {},
   "outputs": [
    {
     "data": {
      "image/png": "[encoded data removed]",
      "text/plain": [
       "<Figure size 432x288 with 1 Axes>"
      ]
     },
     "metadata": {
      "needs_background": "light"
     },
     "output_type": "display_data"
    }
   ],
   "source": [
    "h = pl.hist(pulls,bins=20)"
   ]
  },
  {
   "cell_type": "code",
   "execution_count": 76,
   "id": "0dcba16f",
   "metadata": {},
   "outputs": [],
   "source": [
    "from scipy.optimize import minimize, minimize_scalar"
   ]
  },
  {
   "cell_type": "code",
   "execution_count": 25,
   "id": "490f7064",
   "metadata": {},
   "outputs": [],
   "source": [
    "class func:\n",
    "    def __init__(self,yData):\n",
    "        self.y = yData\n",
    "    def __call__(self,p):\n",
    "        return negLogTotalP(self.y, p)\n",
    "    \n",
    "ff = func(yData)"
   ]
  },
  {
   "cell_type": "code",
   "execution_count": 26,
   "id": "5240d270",
   "metadata": {},
   "outputs": [],
   "source": [
    "out = minimize(ff, pmean)"
   ]
  },
  {
   "cell_type": "code",
   "execution_count": 27,
   "id": "7e768f8f",
   "metadata": {},
   "outputs": [
    {
     "data": {
      "text/plain": [
       "      fun: 287.67315327050324\n",
       " hess_inv: array([[ 7.65421657e+02,  2.50572916e+02, -1.51589590e+02,\n",
       "        -6.71571972e+02,  1.15479811e+02, -3.13994647e-02],\n",
       "       [ 2.50572916e+02,  3.41697795e+03,  1.53048373e+01,\n",
       "        -2.20147461e+02, -9.14605851e+01, -1.49035601e-02],\n",
       "       [-1.51589590e+02,  1.53048373e+01,  1.70087205e+03,\n",
       "        -1.44084191e+03, -2.16881114e+02, -1.08659947e-01],\n",
       "       [-6.71571972e+02, -2.20147461e+02, -1.44084191e+03,\n",
       "         2.07311389e+03,  7.85999820e+01,  1.35475808e-01],\n",
       "       [ 1.15479811e+02, -9.14605851e+01, -2.16881114e+02,\n",
       "         7.85999820e+01,  4.56026412e+01,  9.16720789e-03],\n",
       "       [-3.13994647e-02, -1.49035601e-02, -1.08659947e-01,\n",
       "         1.35475808e-01,  9.16720789e-03,  6.45705467e-04]])\n",
       "      jac: array([ 0.00000000e+00, -1.52587891e-05, -7.62939453e-05, -6.10351562e-05,\n",
       "        1.90734863e-05, -3.66210938e-04])\n",
       "  message: 'Desired error not necessarily achieved due to precision loss.'\n",
       "     nfev: 616\n",
       "      nit: 58\n",
       "     njev: 88\n",
       "   status: 2\n",
       "  success: False\n",
       "        x: array([2.20014649e+03, 8.11351639e+02, 3.26891031e+03, 2.22921827e+03,\n",
       "       3.72797032e+03, 3.71785164e-01])"
      ]
     },
     "execution_count": 27,
     "metadata": {},
     "output_type": "execute_result"
    }
   ],
   "source": [
    "out"
   ]
  },
  {
   "cell_type": "code",
   "execution_count": 28,
   "id": "3afb85ae",
   "metadata": {},
   "outputs": [
    {
     "data": {
      "text/plain": [
       "array([2.20014649e+03, 8.11351639e+02, 3.26891031e+03, 2.22921827e+03,\n",
       "       3.72797032e+03, 3.71785164e-01])"
      ]
     },
     "execution_count": 28,
     "metadata": {},
     "output_type": "execute_result"
    }
   ],
   "source": [
    "out['x']"
   ]
  },
  {
   "cell_type": "code",
   "execution_count": 92,
   "id": "51a8f647",
   "metadata": {},
   "outputs": [],
   "source": [
    "# Use the helper function above\n",
    "id = 62\n",
    "objtab = tab[tab['ORBITID']==id]\n",
    "data = LightCurveTable(objtab)\n",
    "data.setObsList()\n",
    "startF, sigmaF, sigmaA = mcmcHints(data.yData)\n",
    "pStart = np.append(startF, 0.3)\n"
   ]
  },
  {
   "cell_type": "code",
   "execution_count": 62,
   "id": "d969f8d5",
   "metadata": {},
   "outputs": [
    {
     "name": "stdout",
     "output_type": "stream",
     "text": [
      "319.99195710131903 [1.35880037e+03 1.43641812e+03 6.07476110e+03 4.14406622e+03\n",
      " 7.59551873e+03 6.60859951e-01]\n"
     ]
    }
   ],
   "source": [
    "neglogp, pBest, dof = data.optimize(pStart)\n",
    "print(neglogp,pBest)"
   ]
  },
  {
   "cell_type": "code",
   "execution_count": 63,
   "id": "09a55ae7",
   "metadata": {},
   "outputs": [
    {
     "name": "stdout",
     "output_type": "stream",
     "text": [
      "doing 30\n",
      "doing 23\n",
      "doing 12\n",
      "doing 31\n",
      "doing 13\n",
      "doing 2\n",
      "doing 39\n",
      "doing 1\n",
      "doing 7\n",
      "doing 15\n",
      "doing 4\n",
      "doing 27\n",
      "doing 22\n",
      "doing 10\n",
      "doing 29\n",
      "doing 26\n",
      "doing 8\n",
      "doing 35\n",
      "doing 32\n",
      "doing 33\n",
      "doing 36\n",
      "doing 25\n",
      "doing 28\n",
      "doing 6\n",
      "doing 21\n",
      "doing 18\n",
      "doing 0\n",
      "doing 5\n",
      "doing 11\n",
      "doing 17\n",
      "doing 16\n",
      "doing 38\n",
      "doing 34\n",
      "doing 24\n",
      "doing 14\n",
      "doing 19\n",
      "doing 20\n",
      "doing 9\n",
      "doing 37\n",
      "27\n"
     ]
    },
    {
     "data": {
      "image/png": "[encoded data removed]",
      "text/plain": [
       "<Figure size 432x288 with 1 Axes>"
      ]
     },
     "metadata": {
      "needs_background": "light"
     },
     "output_type": "display_data"
    }
   ],
   "source": [
    "dlogp = []\n",
    "aout = []\n",
    "for i in data.getRows():\n",
    "    print('doing',i)\n",
    "    data.clip(i)\n",
    "    data.setObsList()\n",
    "    out = data.optimize(pStart)\n",
    "    dlogp.append(neglogp - out[0])\n",
    "    aout.append(out[1][-1])\n",
    "    data.unclip(i)\n",
    "    \n",
    "pl.plot(dlogp, 'ro')\n",
    "pl.grid()\n",
    "print(np.argmax(dlogp))"
   ]
  },
  {
   "cell_type": "code",
   "execution_count": 64,
   "id": "e89cc152",
   "metadata": {},
   "outputs": [],
   "source": [
    "tdb = objtab['TDB'][data.getRows()]"
   ]
  },
  {
   "cell_type": "code",
   "execution_count": 65,
   "id": "5315ba5d",
   "metadata": {},
   "outputs": [
    {
     "data": {
      "text/plain": [
       "[<matplotlib.lines.Line2D at 0x7f9c9962ee10>]"
      ]
     },
     "execution_count": 65,
     "metadata": {},
     "output_type": "execute_result"
    },
    {
     "data": {
      "image/png": "[encoded data removed]",
      "text/plain": [
       "<Figure size 432x288 with 1 Axes>"
      ]
     },
     "metadata": {
      "needs_background": "light"
     },
     "output_type": "display_data"
    }
   ],
   "source": [
    "pl.plot(tdb,aout,'ro')"
   ]
  },
  {
   "cell_type": "code",
   "execution_count": 49,
   "id": "a35ac8cf",
   "metadata": {},
   "outputs": [
    {
     "data": {
      "text/plain": [
       "[36.93967713122305,\n",
       " 37.21932704060782,\n",
       " 37.51345093024588,\n",
       " 38.340114425775425,\n",
       " 37.282507145391776,\n",
       " 12.406043778969604,\n",
       " 12.019885811834456,\n",
       " 38.5021170432849,\n",
       " 5.784250072348641,\n",
       " 6.592900296713481,\n",
       " 6.833206668437015,\n",
       " 38.07108883124795,\n",
       " 9.014134335409665,\n",
       " 8.745834021481414,\n",
       " 38.250753607306024,\n",
       " 38.3643021795159,\n",
       " 38.57132399043735,\n",
       " 38.89256500445987,\n",
       " 35.67655757038028,\n",
       " 6.776226817955035,\n",
       " 36.85664123079505,\n",
       " 38.927440362400716,\n",
       " 38.28448163959786,\n",
       " 38.89356036769584,\n",
       " 6.351203977344369,\n",
       " 7.1215220167624125,\n",
       " 9.243944909496463,\n",
       " 44.63015612223967,\n",
       " 38.05785118926889,\n",
       " 6.959912277002218,\n",
       " 6.645939044774366,\n",
       " 6.480085514210373,\n",
       " 37.10814743463072,\n",
       " 38.76266329148183,\n",
       " 39.039386115922184,\n",
       " 38.324986312960334,\n",
       " 8.693757692179247,\n",
       " 8.961363433023735,\n",
       " 38.95902625683351]"
      ]
     },
     "execution_count": 49,
     "metadata": {},
     "output_type": "execute_result"
    }
   ],
   "source": [
    "dlogp"
   ]
  },
  {
   "cell_type": "code",
   "execution_count": 66,
   "id": "718c2ef9",
   "metadata": {},
   "outputs": [],
   "source": [
    "class fluxOpt:\n",
    "    def __init__(self,data, a):\n",
    "        self.a = a\n",
    "        self.data = data\n",
    "    def __call__(self,flux):\n",
    "        p = np.append(flux, a)\n",
    "        return self.data(p)\n"
   ]
  },
  {
   "cell_type": "code",
   "execution_count": 95,
   "id": "72963a54",
   "metadata": {},
   "outputs": [
    {
     "data": {
      "text/plain": [
       "     fun: 319.9919556016563\n",
       " message: 'Solution found.'\n",
       "    nfev: 24\n",
       "  status: 0\n",
       " success: True\n",
       "       x: 0.3437694101250946"
      ]
     },
     "execution_count": 95,
     "metadata": {},
     "output_type": "execute_result"
    }
   ],
   "source": [
    "n = 5\n",
    "#data.clip(n)\n",
    "data.setObsList()\n",
    "startF, sigmaF, sigmaA = mcmcHints(data.yData)\n",
    "minimize_scalar(data.optimize2, bounds=(0.,0.9), method='bounded',args=(startF,))"
   ]
  },
  {
   "cell_type": "code",
   "execution_count": 99,
   "id": "1a012668",
   "metadata": {},
   "outputs": [
    {
     "name": "stdout",
     "output_type": "stream",
     "text": [
      "0.00 723.1096  [2180.48318218  710.26385827 3218.99067626 2049.62930286 4900.13897931]\n",
      "0.05 675.2207  [2173.71987567  722.58021105 3241.90901265 2075.8759499  5026.5932069 ]\n",
      "0.10 617.7228  [2031.33308734  736.92284821 3263.89754175 2106.83917197 5220.09597812]\n",
      "0.15 564.9961  [1958.24063991  755.36411806 3295.57716291 2152.1014536  5414.57169446]\n",
      "0.20 520.3638  [1881.64444807  774.33852067 3338.72996843 2194.98034341 5625.99615303]\n",
      "0.25 482.0428  [1876.82069939  821.51577953 3432.92766543 2257.23426792 5795.26184085]\n",
      "0.30 446.3474  [1855.98191694  823.17133841 3632.69730879 2316.42072128 6271.47605361]\n",
      "0.35 415.6266  [1673.89096247  851.6207596  3824.574565   2428.39036054 6608.6226772 ]\n",
      "0.40 387.7155  [1612.77071253  890.02667393 4123.12746132 2639.88701279 6931.72346416]\n",
      "0.45 363.7146  [1554.6735896   938.8378295  4438.55191916 2860.50160675 7210.60631063]\n",
      "0.50 344.8753  [1523.93736415 1019.06640021 4786.43258114 3112.90843735 7423.40050171]\n",
      "0.55 331.3743  [1487.80033894 1139.87361478 5166.76259431 3420.53884764 7504.48264541]\n",
      "0.60 323.9822  [1459.21591538 1321.16781522 5356.6969925  3583.09170427 7512.92380234]\n",
      "0.65 320.4399  [1371.19216795 1398.00605751 5881.13580232 3996.67620067 7428.93343025]\n",
      "0.70 320.9919  [1306.19815778 1527.70082305 6279.31821573 4326.51444293 7524.92620604]\n",
      "0.75 324.3415  [1289.86161354 1538.60944109 6289.70894904 4372.33051309 7372.46692254]\n",
      "0.80 327.1522  [1251.84246748 1423.70876854 5897.42634165 4076.83397635 7081.75921778]\n",
      "0.85 329.1389  [1215.58375427 1353.38199442 5656.79358755 3901.10637494 6862.52516432]\n",
      "0.90 330.6968  [1159.5278001  1301.07630891 5469.52944457 3766.13703878 6667.74410052]\n"
     ]
    }
   ],
   "source": [
    "for a in np.arange(0,0.91,0.05):\n",
    "    ff = fluxOpt(data,a)\n",
    "    out = minimize(ff, startF)\n",
    "    startF = out['x']\n",
    "    print(\"{:.2f} {:.4f} \".format(a,out['fun']), out['x'])"
   ]
  },
  {
   "cell_type": "code",
   "execution_count": 98,
   "id": "a9241e1a",
   "metadata": {},
   "outputs": [
    {
     "data": {
      "text/plain": [
       "{'Y': 0, 'g': 1, 'i': 2, 'r': 3, 'z': 4}"
      ]
     },
     "execution_count": 98,
     "metadata": {},
     "output_type": "execute_result"
    }
   ],
   "source": [
    "data.b2n"
   ]
  },
  {
   "cell_type": "markdown",
   "id": "dc3742b2",
   "metadata": {},
   "source": [
    "# Non-sinusoidal light curve\n",
    "Using Lacerda et al 2014 light curve for 2003 SQ137, let's see how the algorithm based on sinusoids retrieves a peak-to-peak amplitude for a very non-sinusoidal light curve."
   ]
  },
  {
   "cell_type": "code",
   "execution_count": 3,
   "id": "ae89eba4",
   "metadata": {},
   "outputs": [],
   "source": [
    "# Try to copy the light curve from Lacerda Fig 1 - (phase,mag) data\n",
    "from scipy.interpolate import interp1d\n",
    "\n",
    "points = np.array(((0, 0.5),(0.06,0.75), (0.2, 0.2), (0.25,0.1), (0.3, 0.), (0.35,0.05), (0.4,0.1),\n",
    "(0.5,0.5),(0.6,0.85), (0.65,0.45), (0.7,0.35), (0.8,0.1),(0.82,0.05),(0.9,0.1),(1.0,0.5)))\n",
    "\n",
    "lcfunc = interp1d(points[:,0],points[:,1],kind='linear')\n"
   ]
  },
  {
   "cell_type": "code",
   "execution_count": 4,
   "id": "98dd0def",
   "metadata": {},
   "outputs": [
    {
     "data": {
      "text/plain": [
       "(0.9, -0.02)"
      ]
     },
     "execution_count": 4,
     "metadata": {},
     "output_type": "execute_result"
    },
    {
     "data": {
      "image/png": "[encoded data removed]",
      "text/plain": [
       "<Figure size 432x288 with 1 Axes>"
      ]
     },
     "metadata": {
      "needs_background": "light"
     },
     "output_type": "display_data"
    }
   ],
   "source": [
    "x = np.arange(0,1,0.001)\n",
    "pl.plot(x,lcfunc(x),'k-')\n",
    "pl.ylim(0.9,-0.02)"
   ]
  },
  {
   "cell_type": "code",
   "execution_count": 12,
   "id": "6858a295",
   "metadata": {},
   "outputs": [
    {
     "data": {
      "text/plain": [
       "Text(0, 0.5, 'Max-likelihood A')"
      ]
     },
     "execution_count": 12,
     "metadata": {},
     "output_type": "execute_result"
    },
    {
     "data": {
      "image/png": "[encoded data removed]",
      "text/plain": [
       "<Figure size 432x288 with 1 Axes>"
      ]
     },
     "metadata": {
      "needs_background": "light"
     },
     "output_type": "display_data"
    },
    {
     "data": {
      "image/png": "[encoded data removed]",
      "text/plain": [
       "<Figure size 432x288 with 1 Axes>"
      ]
     },
     "metadata": {
      "needs_background": "light"
     },
     "output_type": "display_data"
    }
   ],
   "source": [
    "# See what best-fit sinusoidal amplitude of well-sampled light\n",
    "# curve is, as a function of typical S/N\n",
    "\n",
    "sn = []\n",
    "bestA = []\n",
    "for peakflux in 10**(np.arange(0.6,2.01,0.2)):\n",
    "    # Make a fake obs list\n",
    "    obslist = [[(0,peakflux* 10**(-0.4*lcfunc(phi)), 1.)] for phi in np.arange(0.,1.,0.03)]\n",
    "    #obslist = [[(0,peakflux* (1+0.2*np.sin(2*np.pi*phi)), 1.)] for phi in np.arange(0.,1.,0.03)]\n",
    "    f0 = np.mean([obs[0][1] for obs in obslist])\n",
    "    a = np.arange(0.01,0.5,0.005)\n",
    "    p = []\n",
    "    for aa in a:\n",
    "        params = np.array([f0,aa])\n",
    "        p.append(negLogTotalP(obslist,params))\n",
    "    sn.append(f0/1.)\n",
    "    bestA.append(a[np.argmin(p)])\n",
    "    pl.plot(a,p-np.min(p),label='{:.1f}'.format(f0))\n",
    "pl.ylim(0,25)\n",
    "pl.grid()\n",
    "pl.legend()\n",
    "pl.xlabel('A')\n",
    "pl.ylabel('-log p above best fit')\n",
    "\n",
    "pl.figure()\n",
    "pl.plot(sn,bestA)\n",
    "pl.grid()\n",
    "pl.xlabel(\"Average S/N of 30 measures\")\n",
    "pl.ylabel(\"Max-likelihood A\")"
   ]
  },
  {
   "cell_type": "code",
   "execution_count": null,
   "id": "9320bdb9",
   "metadata": {},
   "outputs": [],
   "source": []
  }
 ],
 "metadata": {
  "kernelspec": {
   "display_name": "Python 3",
   "language": "python",
   "name": "python3"
  },
  "language_info": {
   "codemirror_mode": {
    "name": "ipython",
    "version": 3
   },
   "file_extension": ".py",
   "mimetype": "text/x-python",
   "name": "python",
   "nbconvert_exporter": "python",
   "pygments_lexer": "ipython3",
   "version": "3.7.12"
  }
 },
 "nbformat": 4,
 "nbformat_minor": 5
}
